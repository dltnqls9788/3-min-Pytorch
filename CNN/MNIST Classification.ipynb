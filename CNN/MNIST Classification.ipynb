{
 "cells": [
  {
   "cell_type": "markdown",
   "id": "792bc649",
   "metadata": {},
   "source": [
    "## Import libraries"
   ]
  },
  {
   "cell_type": "code",
   "execution_count": null,
   "id": "21e82e7d",
   "metadata": {},
   "outputs": [],
   "source": [
    "import numpy as np \n",
    "import torch \n",
    "import torch.nn as nn \n",
    "import torch.optim as optim \n",
    "import torch.nn.init as init\n",
    "import torchvision.datasets as dset \n",
    "import torchvision.transforms as transforms\n",
    "from torch.utils.data import DataLoader\n",
    "from torch.autograd import Variable"
   ]
  },
  {
   "cell_type": "markdown",
   "id": "c1260704",
   "metadata": {},
   "source": [
    "## Set hyperparameters"
   ]
  },
  {
   "cell_type": "code",
   "execution_count": null,
   "id": "45977c13",
   "metadata": {},
   "outputs": [],
   "source": [
    "batch_size = 16 \n",
    "learning_rate = 0.0002\n",
    "num_epoch = 10"
   ]
  },
  {
   "cell_type": "markdown",
   "id": "bc8bd31d",
   "metadata": {},
   "source": [
    "## Download MNIST dataset"
   ]
  },
  {
   "cell_type": "code",
   "execution_count": null,
   "id": "4da8083b",
   "metadata": {},
   "outputs": [],
   "source": [
    "mnist_train = dset.MNIST(\"./\", train=True, transform=transforms.ToTensor(), target_transform=None, download=True)\n",
    "mnist_test = dset.MNIST(\"./\", train=False, transform=transforms.ToTensor(), target_transform=None, download=True)"
   ]
  },
  {
   "cell_type": "markdown",
   "id": "0a16f103",
   "metadata": {},
   "source": [
    "## Set dataloader"
   ]
  },
  {
   "cell_type": "code",
   "execution_count": null,
   "id": "c10884f3",
   "metadata": {},
   "outputs": [],
   "source": [
    "train_loader = torch.utils.data.DataLoader(mnist_train, batch_size=batch_size, shuffle=True, num_workers=2, drop_last=True)\n",
    "test_loader = torch.utils.data.DataLoader(mnist_test, batch_size=batch_size, shuffle=False, num_workers=2, drop_last=True)"
   ]
  },
  {
   "cell_type": "markdown",
   "id": "0430903c",
   "metadata": {},
   "source": [
    "## Define CNN Model"
   ]
  },
  {
   "cell_type": "code",
   "execution_count": null,
   "id": "65f16256",
   "metadata": {},
   "outputs": [],
   "source": [
    "class CNN(nn.Module):\n",
    "  def __init__(self):\n",
    "    super(CNN,self).__init__()\n",
    "    self.layer = nn.Sequential(\n",
    "        nn.Conv2d(1, 16, kernel_size=5),\n",
    "        nn.ReLU(),\n",
    "\n",
    "        nn.Conv2d(16, 32, kernel_size=5, padding=\"same\"),\n",
    "        nn.BatchNorm2d(32),\n",
    "        nn.ReLU(),\n",
    "        nn.MaxPool2d(2,2),\n",
    "        \n",
    "        nn.Conv2d(32, 64, kernel_size=5, padding=\"same\"),\n",
    "        nn.BatchNorm2d(64),\n",
    "        nn.ReLU(),\n",
    "        nn.MaxPool2d(2,2),\n",
    "    )\n",
    "\n",
    "    self.fc_layer = nn.Sequential(\n",
    "        nn.Linear(6*6*64, 100), \n",
    "        nn.ReLU(),\n",
    "        nn.Linear(100,10)     \n",
    "    )\n",
    "        \n",
    "  def forward(self, x):\n",
    "    out = self.layer(x)\n",
    "    out = out.view(batch_size, -1) \n",
    "    out = self.fc_layer(out) \n",
    "\n",
    "    return out \n",
    "\n",
    "model = CNN().cuda()"
   ]
  },
  {
   "cell_type": "markdown",
   "id": "26aee1ab",
   "metadata": {},
   "source": [
    "## Define loss function and optimizer"
   ]
  },
  {
   "cell_type": "code",
   "execution_count": null,
   "id": "beb5685d",
   "metadata": {},
   "outputs": [],
   "source": [
    "loss_func = nn.CrossEntropyLoss() \n",
    "optimizer = torch.optim.SGD(model.parameters(), lr=learning_rate)"
   ]
  },
  {
   "cell_type": "markdown",
   "id": "a6998599",
   "metadata": {},
   "source": [
    "## Train CNN model"
   ]
  },
  {
   "cell_type": "code",
   "execution_count": null,
   "id": "272578e0",
   "metadata": {},
   "outputs": [],
   "source": [
    "for i in range(num_epoch):\n",
    "  for j, [image, label] in enumerate(train_loader):\n",
    "    x = Variable(image).cuda()\n",
    "    y_= Variable(label).cuda()   \n",
    "    optimizer.zero_grad()  \n",
    "    \n",
    "    output = model.forward(x) \n",
    "    loss = loss_func(output, y_) \n",
    "    loss.backward() \n",
    "    \n",
    "    optimizer.step() \n",
    "\n",
    "    if j % 1000 == 0:\n",
    "      print(loss)"
   ]
  },
  {
   "cell_type": "markdown",
   "id": "5a791bcd",
   "metadata": {},
   "source": [
    "## Test CNN model"
   ]
  },
  {
   "cell_type": "code",
   "execution_count": null,
   "id": "0e31ecf5",
   "metadata": {},
   "outputs": [],
   "source": [
    "correct = 0\n",
    "total = 0\n",
    "for image,label in test_loader:\n",
    "    x = Variable(image,volatile=True).cuda()\n",
    "    y_= Variable(label).cuda()\n",
    "    output = model.forward(x)\n",
    "    _,output_index = torch.max(output,1) # Select the digits with the highest output scores (0-9)\n",
    "    total += label.size(0) # Counting the total number of test data\n",
    "    correct += (output_index == y_).sum().float() # Counting the number of correctly classified data\n",
    "print(\"Accuracy of Test Data: {}\".format(100*correct/total))"
   ]
  }
 ],
 "metadata": {
  "kernelspec": {
   "display_name": "Python 3 (ipykernel)",
   "language": "python",
   "name": "python3"
  },
  "language_info": {
   "codemirror_mode": {
    "name": "ipython",
    "version": 3
   },
   "file_extension": ".py",
   "mimetype": "text/x-python",
   "name": "python",
   "nbconvert_exporter": "python",
   "pygments_lexer": "ipython3",
   "version": "3.9.12"
  }
 },
 "nbformat": 4,
 "nbformat_minor": 5
}
